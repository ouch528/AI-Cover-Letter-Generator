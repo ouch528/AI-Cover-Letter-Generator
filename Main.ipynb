{
 "cells": [
  {
   "cell_type": "code",
   "execution_count": 9,
   "metadata": {},
   "outputs": [],
   "source": [
    "import pytesseract      \n",
    "from PIL import Image\n",
    "import PyPDF2"
   ]
  },
  {
   "cell_type": "markdown",
   "metadata": {},
   "source": [
    "Read Job Description"
   ]
  },
  {
   "cell_type": "code",
   "execution_count": null,
   "metadata": {},
   "outputs": [],
   "source": [
    "def extract_text_from_image(image_path):\n",
    "    img = Image.open(image_path)\n",
    "    \n",
    "    extracted_text = pytesseract.image_to_string(img)\n",
    "    \n",
    "    return extracted_text"
   ]
  },
  {
   "cell_type": "markdown",
   "metadata": {},
   "source": [
    "Read Resume"
   ]
  },
  {
   "cell_type": "code",
   "execution_count": 11,
   "metadata": {},
   "outputs": [],
   "source": [
    "def extract_text_from_pdf(file_path):\n",
    "    \"\"\"Extract text from a .pdf file.\"\"\"\n",
    "    text = \"\"\n",
    "    with open(file_path, \"rb\") as file:\n",
    "        reader = PyPDF2.PdfReader(file)\n",
    "        for page in reader.pages:\n",
    "            text += page.extract_text() + \"\\n\"\n",
    "    return text"
   ]
  },
  {
   "cell_type": "markdown",
   "metadata": {},
   "source": [
    "Extract Filename"
   ]
  },
  {
   "cell_type": "code",
   "execution_count": null,
   "metadata": {},
   "outputs": [],
   "source": [
    "import re\n",
    "\n",
    "def extract_filename(input_string):    \n",
    "    match = re.search(r'_(\\w+)', input_string)\n",
    "    \n",
    "    if match:\n",
    "        return match.group(1)  \n",
    "    else:\n",
    "        return None "
   ]
  },
  {
   "cell_type": "markdown",
   "metadata": {},
   "source": [
    "Save as .docx"
   ]
  },
  {
   "cell_type": "code",
   "execution_count": null,
   "metadata": {},
   "outputs": [],
   "source": [
    "from docx import Document\n",
    "from docx.shared import Pt  \n",
    "from docx.enum.text import WD_PARAGRAPH_ALIGNMENT  \n",
    "import os\n",
    "\n",
    "def create_docx_from_text(cover_letter_text, file_path):\n",
    "    doc = Document()\n",
    "\n",
    "    paragraph = doc.add_paragraph()\n",
    "    run = paragraph.add_run(cover_letter_text)\n",
    "    \n",
    "    run.font.name = 'Arial'\n",
    "    run.font.size = Pt(11)  \n",
    "\n",
    "\n",
    "    os.makedirs(os.path.dirname(file_path), exist_ok=True)\n",
    "\n",
    "    doc.save(file_path)\n",
    "    print(f'Document saved as {file_path}')"
   ]
  },
  {
   "cell_type": "markdown",
   "metadata": {},
   "source": [
    "Today's Date"
   ]
  },
  {
   "cell_type": "code",
   "execution_count": null,
   "metadata": {},
   "outputs": [],
   "source": [
    "from datetime import datetime\n",
    "\n",
    "def get_today_date():\n",
    "    today = datetime.now()\n",
    "    formatted_date = today.strftime(\"%-d %b %Y\")  \n",
    "    return formatted_date"
   ]
  },
  {
   "cell_type": "markdown",
   "metadata": {},
   "source": [
    "OpenAI API to generate cover letter"
   ]
  },
  {
   "cell_type": "code",
   "execution_count": null,
   "metadata": {},
   "outputs": [],
   "source": [
    "from openai import OpenAI\n",
    "from dotenv import load_dotenv\n",
    "load_dotenv()\n",
    "\n",
    "openai_api_key = os.getenv(\"OPENAI_API_KEY\")\n",
    "cover_letter_path = os.getenv(\"COVER_LETTER_PATH\")\n",
    "job_listing_path = os.getenv(\"JOB_LISTING_PATH\")\n",
    "resume_path = os.getenv(\"RESUME_PATH\")\n",
    "\n",
    "client = OpenAI(api_key= openai_api_key)\n",
    "\n",
    "def generate_cover_letter(job_listing_path, resume_path):\n",
    "\n",
    "    new_filename = cover_letter_path + extract_filename(resume_path) + \".docx\"\n",
    "    job_listing_path = job_listing_path + job_listing_path + \".png\"\n",
    "    resume_path = resume_path + resume_path + \".pdf\"\n",
    "\n",
    "    with open(\"first_part.txt\", \"r\") as file:\n",
    "        first_prompt_template = file.read()\n",
    "\n",
    "    with open(\"second_part.txt\", \"r\") as file:\n",
    "        second_prompt_template = file.read()\n",
    "\n",
    "    prompt = (\n",
    "        f\"{first_prompt_template}\\n\\n\"\n",
    "        \"Now, generate a cover letter for the following job description:\\n\\n\"\n",
    "        f\"{extract_text_from_image(job_listing_path)}\\n\\n\"\n",
    "        \"Using the following resume:\\n\\n\"\n",
    "        f\"{extract_text_from_pdf(resume_path)}\\n\\n\"\n",
    "        \"The company name is:\\n\\n\" \n",
    "        f\"{extract_filename(resume_path)}\\n\\n\"\n",
    "        \"Today's date is:\\n\\n\" \n",
    "        f\"{get_today_date()}\\n\\n\"\n",
    "        f\"{second_prompt_template}\\n\\n\"       \n",
    "    )\n",
    "    \n",
    "    completion = client.chat.completions.create(\n",
    "        model=\"gpt-4o-mini\",  \n",
    "        messages=[\n",
    "            {\"role\": \"system\", \"content\": \"You are a helpful assistant.\"},\n",
    "            {\"role\": \"user\", \"content\": prompt}\n",
    "        ]\n",
    "    )\n",
    "\n",
    "    total_tokens = completion.usage.total_tokens\n",
    "    completion_tokens = completion.usage.completion_tokens\n",
    "    \n",
    "    input_tokens = total_tokens - completion_tokens\n",
    "\n",
    "    print(f\"Input Tokens: {input_tokens}\")\n",
    "    print(f\"Output Tokens: {completion_tokens}\")\n",
    "\n",
    "    cover_letter_text = completion.choices[0].message.content\n",
    "    return create_docx_from_text(cover_letter_text, new_filename)"
   ]
  },
  {
   "cell_type": "markdown",
   "metadata": {},
   "source": [
    "Usage"
   ]
  },
  {
   "cell_type": "code",
   "execution_count": null,
   "metadata": {},
   "outputs": [],
   "source": [
    "resume_text = \n",
    "job_description_text = \n",
    "cover_letter = generate_cover_letter(job_description_text, resume_text)"
   ]
  }
 ],
 "metadata": {
  "kernelspec": {
   "display_name": "Python 3",
   "language": "python",
   "name": "python3"
  },
  "language_info": {
   "codemirror_mode": {
    "name": "ipython",
    "version": 3
   },
   "file_extension": ".py",
   "mimetype": "text/x-python",
   "name": "python",
   "nbconvert_exporter": "python",
   "pygments_lexer": "ipython3",
   "version": "3.10.11"
  }
 },
 "nbformat": 4,
 "nbformat_minor": 2
}
